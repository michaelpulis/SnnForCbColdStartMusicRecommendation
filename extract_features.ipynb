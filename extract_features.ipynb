{
 "cells": [
  {
   "cell_type": "code",
   "execution_count": null,
   "metadata": {},
   "outputs": [],
   "source": [
    "import librosa\n",
    "import librosa.display\n",
    "import glob\n",
    "import numpy as np\n",
    "import matplotlib.pyplot as plt\n",
    "from numpy import save\n",
    "import os\n",
    "import sys\n",
    "import time\n",
    "from pathlib import Path"
   ]
  },
  {
   "cell_type": "code",
   "execution_count": null,
   "metadata": {},
   "outputs": [],
   "source": [
    "precalculated_dir = 'precalculated_files_mel/'\n",
    "if(not os.path.isdir(precalculated_dir+mode)):\n",
    "    os.mkdir(precalculated_dir+mode)"
   ]
  },
  {
   "cell_type": "code",
   "execution_count": null,
   "metadata": {},
   "outputs": [],
   "source": [
    "def save_melspectrogram(mel, path):\n",
    "    librosa.display.specshow(librosa.power_to_db(mel, ref=np.max), y_axis='mel', fmax=8000, x_axis='time')\n",
    "    plt.axis('off')\n",
    "    plt.savefig(path, bbox_inches = 'tight', pad_inches = 0, vmin=0, vmax=255)\n",
    "    plt.clf()"
   ]
  },
  {
   "cell_type": "code",
   "execution_count": null,
   "metadata": {
    "scrolled": true
   },
   "outputs": [],
   "source": [
    "start = time.time()\n",
    "counter = 0\n",
    "precalculated_files = os.listdir(precalculated_dir+mode)\n",
    "for file in glob.iglob(\"fma/fma_medium/**\", recursive=True):\n",
    "    # Only process files\n",
    "    if os.path.isfile(file):\n",
    "        name = Path(file).stem\n",
    "#         If the file has not been processed already\n",
    "        if(name+'.png' in precalculated_files):\n",
    "            sys.stdout.write(\"Skipped %d\\r\" % counter)\n",
    "            sys.stdout.flush()\n",
    "            counter += 1\n",
    "            continue\n",
    "        try:\n",
    "            y, sr = librosa.load(file)\n",
    "            melspectrogram = librosa.feature.melspectrogram(y=y, sr=sr,  n_mels=128, fmax=8000)\n",
    "            save_melspectrogram(melspectrogram, precalculated_dir+mode+'/'+name)\n",
    "            sys.stdout.write(\"%s\\t%d\\r\" % (name, counter)  )\n",
    "            sys.stdout.flush()\n",
    "            counter += 1\n",
    "\n",
    "        except Exception as e:\n",
    "            print(\"failed...\",e)\n",
    "            counter += 1\n",
    "            continue\n",
    "end = time.time()"
   ]
  }
 ],
 "metadata": {
  "kernelspec": {
   "display_name": "Python 3",
   "language": "python",
   "name": "python3"
  },
  "language_info": {
   "codemirror_mode": {
    "name": "ipython",
    "version": 3
   },
   "file_extension": ".py",
   "mimetype": "text/x-python",
   "name": "python",
   "nbconvert_exporter": "python",
   "pygments_lexer": "ipython3",
   "version": "3.7.4"
  }
 },
 "nbformat": 4,
 "nbformat_minor": 2
}