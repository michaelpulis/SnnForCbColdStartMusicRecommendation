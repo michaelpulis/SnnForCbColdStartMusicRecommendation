{
 "cells": [
  {
   "cell_type": "code",
   "execution_count": 1,
   "source": [
    "import os\r\n",
    "import csv\r\n",
    "import numpy as np\r\n",
    "from numpy import save\r\n",
    "from numpy import load\r\n",
    "from os import path\r\n",
    "import os\r\n",
    "from bisect import bisect\r\n",
    "import sys\r\n",
    "import json\r\n",
    "import pprint\r\n",
    "import random\r\n",
    "import math"
   ],
   "outputs": [],
   "metadata": {}
  },
  {
   "cell_type": "code",
   "execution_count": 2,
   "source": [
    "path_to_files = '../precalculated_files_mel/mel_mid/a'\r\n",
    "output_dir = 'image_pairs/good3'\r\n",
    "files = list(os.listdir(path_to_files))"
   ],
   "outputs": [],
   "metadata": {}
  },
  {
   "cell_type": "code",
   "execution_count": 3,
   "source": [
    "def is_int(x):\r\n",
    "    try: \r\n",
    "        float(x)\r\n",
    "        return True\r\n",
    "    except ValueError:\r\n",
    "        return False\r\n",
    "    \r\n",
    "def resolve_genres(genres):\r\n",
    "    if(len(genres) == 0): return mapping[genres[0].strip()]\r\n",
    "    \r\n",
    "    mapped = []\r\n",
    "    for genre in genres:\r\n",
    "        genre = genre.strip()\r\n",
    "        if(genre in mapping): mapped.append(mapping[genre])\r\n",
    "        \r\n",
    "    unique = set(mapped)\r\n",
    "    return list(unique)\r\n",
    "\r\n",
    "def load_map(filename):\r\n",
    "    with open(filename) as f:\r\n",
    "        return json.loads(f.read())\r\n",
    "    \r\n",
    "def save_map(m, filename):\r\n",
    "    with open(filename, 'w') as f:\r\n",
    "        f.write(json.dumps(m))"
   ],
   "outputs": [],
   "metadata": {}
  },
  {
   "cell_type": "markdown",
   "source": [
    "Creating positive pairs"
   ],
   "metadata": {}
  },
  {
   "cell_type": "code",
   "execution_count": null,
   "source": [
    "song_count = 16000\r\n",
    "\r\n",
    "total_x = np.zeros(shape=(song_count*2,2,217,334),dtype=np.float16)\r\n",
    "total_y = np.zeros(shape=(song_count*2),dtype=np.uint8)\r\n",
    "\r\n",
    "limit = 2000\r\n",
    "step_count = 6\r\n",
    "counter = 0\r\n",
    "for key in genres_holder.keys():\r\n",
    "    \r\n",
    "    list_of_names = genres_holder[key]\r\n",
    "    np.flip(list_of_names)\r\n",
    "    added = counter\r\n",
    "\r\n",
    "    for step in range(step_count-3):\r\n",
    "\r\n",
    "        for i, name in enumerate(list_of_names[step::step_count]):\r\n",
    "            next_name = list_of_names[i+1]\r\n",
    "            if(not path.isfile(path_to_files+'/'+name+'.png') or \r\n",
    "               not path.isfile(path_to_files+'/'+next_name+'.png')): continue\r\n",
    "            \r\n",
    "            img, img2 = cv2.imread(path_to_files+'/'+name+'.png'), cv2.imread(path_to_files+'/'+next_name+'.png')\r\n",
    "            gray, gray2 = cv2.cvtColor(img, cv2.COLOR_BGR2GRAY), cv2.cvtColor(img2, cv2.COLOR_BGR2GRAY)\r\n",
    "            total_x[counter] = [gray/255,gray2/255]\r\n",
    "            total_y[counter] = 1\r\n",
    "            \r\n",
    "            counter += 1\r\n",
    "            if(counter-added >= limit):break\r\n",
    "        if(counter-added >= limit):\r\n",
    "            break"
   ],
   "outputs": [],
   "metadata": {
    "scrolled": false
   }
  },
  {
   "cell_type": "markdown",
   "source": [
    "Creating the negative pairsy"
   ],
   "metadata": {}
  },
  {
   "cell_type": "code",
   "execution_count": 13,
   "source": [
    "genres = list(genres_holder.keys())\r\n",
    "pair_count = 0\r\n",
    "while(pair_count < song_count):\r\n",
    "        \r\n",
    "    g1 = random.choice(genres)\r\n",
    "    g2 = random.choice(genres)\r\n",
    "    if(g1 == g2): continue\r\n",
    "        \r\n",
    "    name1 = None\r\n",
    "    while(True):\r\n",
    "        name1 = random.choice(genres_holder[g1])\r\n",
    "        if(path.isfile(path_to_files+'/'+name1+'.png')): break\r\n",
    "        \r\n",
    "    name2 = None\r\n",
    "    while(True):\r\n",
    "        name2 = random.choice(genres_holder[g2])\r\n",
    "        if(path.isfile(path_to_files+'/'+name2+'.png')): break\r\n",
    "\r\n",
    "    img, img2 = cv2.imread(path_to_files+'/'+name1+'.png'), cv2.imread(path_to_files+'/'+name2+'.png')\r\n",
    "    gray, gray2 = cv2.cvtColor(img, cv2.COLOR_BGR2GRAY), cv2.cvtColor(img2, cv2.COLOR_BGR2GRAY)\r\n",
    "    \r\n",
    "    total_x[song_count+pair_count] = [gray/255,gray2/255]\r\n",
    "    total_y[song_count+pair_count] = 0\r\n",
    "    \r\n",
    "    sys.stdout.write(\"%s\\t%d\\r\" % (pair_count, song_count)  )\r\n",
    "    sys.stdout.flush()\r\n",
    "    pair_count += 1\r\n"
   ],
   "outputs": [
    {
     "output_type": "stream",
     "name": "stdout",
     "text": [
      "3559\t3560\r"
     ]
    }
   ],
   "metadata": {
    "scrolled": true
   }
  }
 ],
 "metadata": {
  "kernelspec": {
   "display_name": "Python 3",
   "language": "python",
   "name": "python3"
  },
  "language_info": {
   "codemirror_mode": {
    "name": "ipython",
    "version": 3
   },
   "file_extension": ".py",
   "mimetype": "text/x-python",
   "name": "python",
   "nbconvert_exporter": "python",
   "pygments_lexer": "ipython3",
   "version": "3.7.4"
  }
 },
 "nbformat": 4,
 "nbformat_minor": 2
}